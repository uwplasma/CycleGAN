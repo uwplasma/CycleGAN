{
 "cells": [
  {
   "cell_type": "code",
   "execution_count": 1,
   "metadata": {},
   "outputs": [],
   "source": [
    "import pandas as pd\n",
    "import numpy as np\n",
    "from qsc import Qsc\n",
    "from scipy.constants import mu_0\n",
    "from tqdm import tqdm\n",
    "import torch\n",
    "import torch.nn as nn\n",
    "import torch.optim as optim\n",
    "from torch.utils.data import DataLoader, TensorDataset\n",
    "from torchvision.models import resnet18\n",
    "from sklearn.model_selection import train_test_split\n",
    "from sklearn.preprocessing import StandardScaler\n",
    "import matplotlib.pyplot as plt"
   ]
  },
  {
   "cell_type": "code",
   "execution_count": 6,
   "metadata": {},
   "outputs": [
    {
     "name": "stderr",
     "output_type": "stream",
     "text": [
      "Processing rows: 100%|██████████| 96551/96551 [1:48:19<00:00, 14.86it/s]  \n"
     ]
    },
    {
     "name": "stdout",
     "output_type": "stream",
     "text": [
      "          iota_diff  L_grad_B_min_diff     beta_diff\n",
      "count  9.655100e+04       96551.000000  9.655100e+04\n",
      "mean   6.314209e+05           0.352725 -7.859176e+15\n",
      "std    1.958375e+08           0.196487  1.675715e+18\n",
      "min   -3.752772e+09          -0.046251 -3.865942e+20\n",
      "25%   -8.528361e+01           0.209885 -8.345999e+00\n",
      "50%    2.154347e-02           0.296952 -5.742541e+00\n",
      "75%    8.669391e+01           0.456191 -3.042996e+00\n",
      "max    6.062276e+10           1.003346 -4.228336e-04\n"
     ]
    }
   ],
   "source": [
    "data = pd.read_csv(\"computed_desc.csv\")\n",
    "\n",
    "# Convert a column of strings to a column of numpy arrays\n",
    "def convert_to_numpy_array(column):\n",
    "    return column.apply(lambda x: np.array(x.replace('[', '').replace(']', '').split(), dtype=float))\n",
    "\n",
    "data['B_variance_computed'] = convert_to_numpy_array(data['B_variance_computed'])\n",
    "data['L_grad_B_min_computed'] = convert_to_numpy_array(data['L_grad_B_min_computed'])\n",
    "data['beta_computed'] = convert_to_numpy_array(data['beta_computed'])\n",
    "\n",
    "\n",
    "# calculate the desc date\n",
    "data['L_grad_B_min_computed'] = data['L_grad_B_min_computed'].apply(np.min)\n",
    "\n",
    "data['beta_computed'] = data.apply(\n",
    "    lambda row: np.mean(row['beta_computed'] * mu_0 * 2 / (row['B_variance_computed'] ** 2)), axis=1\n",
    ")\n",
    "\n",
    "# Use Qsc to evaluate each row\n",
    "qsc_outputs = []\n",
    "for i, row in tqdm(data.iterrows(), total=len(data), desc=\"Processing rows\"):\n",
    "\n",
    "    rc_values = [row['rc1'], row['rc2'], row['rc3']]\n",
    "    zs_values = [row['zs1'], row['zs2'], row['zs3']]\n",
    "    nfp = row['nfp']\n",
    "    etabar = row['etabar']\n",
    "    B2c = row['B2c']\n",
    "    p2 = row['p2']\n",
    "    \n",
    "    stel = Qsc(rc=[1.0] + rc_values, zs=[0.0] + zs_values, nfp=nfp, etabar=etabar, B2c=B2c, p2=p2, order=\"r2\")\n",
    "    \n",
    "\n",
    "    iota_qsc = stel.iota\n",
    "    min_L_grad_B_qsc = np.min(stel.L_grad_B)\n",
    "    beta_on_axis_NAE_qsc = np.mean(p2 * mu_0 * 2 / stel.B0**2)\n",
    "    \n",
    "    qsc_outputs.append([iota_qsc, min_L_grad_B_qsc, beta_on_axis_NAE_qsc])\n",
    "\n",
    "# Convert Qsc output to DataFrame and merge with original data\n",
    "qsc_output_df = pd.DataFrame(qsc_outputs, columns=['iota_qsc', 'L_grad_B_min_qsc', 'beta_on_axis_NAE_qsc'])\n",
    "data = pd.concat([data, qsc_output_df], axis=1)\n",
    "\n",
    "# Calculate differences and save results\n",
    "data['iota_diff'] = data['iota_qsc'] - data['iota_computed']\n",
    "data['L_grad_B_min_diff'] = data['L_grad_B_min_qsc'] - data['L_grad_B_min_computed']\n",
    "data['beta_diff'] = data['beta_on_axis_NAE_qsc'] - data['beta_computed']\n",
    "\n",
    "data.to_csv(\"updated_data.csv\", index=False)\n",
    "\n",
    "dist_analysis = data[['iota_diff', 'L_grad_B_min_diff', 'beta_diff']].describe()\n",
    "print(dist_analysis)\n"
   ]
  },
  {
   "cell_type": "code",
   "execution_count": 11,
   "metadata": {},
   "outputs": [
    {
     "name": "stdout",
     "output_type": "stream",
     "text": [
      "-0.0573807284570793\n",
      "0.4887752145699409\n",
      "-4.265958122919835\n"
     ]
    }
   ],
   "source": [
    "#have a check\n",
    "stel = Qsc(rc=[1.0] + [-0.058194313093306, -0.0267783634780824, 0.0246519127341152], zs=[0.0] + [-0.2490462486716480, -0.201597000247545, -0.0074997346999967], nfp=1, etabar=1.8052160668873300, B2c=2.0934782330400600, p2=-1697370.804790280, order=\"r2\")\n",
    "print(stel.iota)\n",
    "print(np.min(stel.L_grad_B))\n",
    "print(np.mean(stel.p2 * mu_0 * 2 / stel.B0**2) )"
   ]
  },
  {
   "cell_type": "code",
   "execution_count": 2,
   "metadata": {},
   "outputs": [],
   "source": [
    "#assign scores to each stellarator configruation based on the difference\n",
    "\n",
    "# Load the updated data\n",
    "data = pd.read_csv(\"updated_data.csv\")\n",
    "\n",
    "# Calculate the mean absolute values to use as scale factors\n",
    "mean_iota_diff = data['iota_diff'].abs().mean()\n",
    "mean_L_grad_B_min_diff = data['L_grad_B_min_diff'].abs().mean()\n",
    "mean_beta_diff = data['beta_diff'].abs().mean()\n",
    "\n",
    "# Define the exponent\n",
    "alpha = 10  # Adjust alpha to increase score range\n",
    "\n",
    "# Calculate the score for each row with the adjusted formula\n",
    "data['score'] = ((1 / ((data['iota_diff'].abs() / mean_iota_diff) + 1)) *alpha +\n",
    "                 (1 / ((data['L_grad_B_min_diff'].abs() / mean_L_grad_B_min_diff) + 1)) * alpha +\n",
    "                 (1 / ((data['beta_diff'].abs() / mean_beta_diff) + 1)) * alpha)\n",
    "\n",
    "# Save the updated DataFrame with the score back to the CSV\n",
    "data.to_csv(\"updated_data.csv\", index=False)\n"
   ]
  },
  {
   "cell_type": "code",
   "execution_count": 6,
   "metadata": {},
   "outputs": [
    {
     "name": "stdout",
     "output_type": "stream",
     "text": [
      "iota_diff - Min: 1.2024861003351315e-05, Max: 1499.979913248026\n",
      "L_grad_B_min_diff - Min: 0.002180919823842, Max: 1.0033464105867416\n",
      "beta_diff - Min: 0.0004228335596329, Max: 16.285980022598032\n",
      "iota_diff - Q1: 2.059972671542078, Median: 17.262208181082173, Q3: 166.83870631585614\n",
      "L_grad_B_min_diff - Q1: 0.225435142331877, Median: 0.317355543783598, Q3: 0.4825509879733791\n",
      "beta_diff - Q1: 2.670071281683762, Median: 5.222496831057052, Q3: 7.792272272106617\n"
     ]
    },
    {
     "data": {
      "image/png": "[encoded data removed]",
      "text/plain": [
       "<Figure size 1080x360 with 3 Axes>"
      ]
     },
     "metadata": {
      "needs_background": "light"
     },
     "output_type": "display_data"
    }
   ],
   "source": [
    "import matplotlib.pyplot as plt\n",
    "import pandas as pd\n",
    "import numpy as np\n",
    "\n",
    "data = pd.read_csv(\"updated_data2.csv\")\n",
    "\n",
    "# Extract the absolute values for the diffs\n",
    "iota_diff = data['iota_diff'].abs()\n",
    "L_grad_B_min_diff = data['L_grad_B_min_diff'].abs()\n",
    "beta_diff = data['beta_diff'].abs()\n",
    "\n",
    "iota_diff_min, iota_diff_max = iota_diff.min(), iota_diff.max()\n",
    "L_grad_B_min_diff_min, L_grad_B_min_diff_max = L_grad_B_min_diff.min(), L_grad_B_min_diff.max()\n",
    "beta_diff_min, beta_diff_max = beta_diff.min(), beta_diff.max()\n",
    "\n",
    "\n",
    "# Print min and max values\n",
    "print(f\"iota_diff - Min: {iota_diff_min}, Max: {iota_diff_max}\")\n",
    "print(f\"L_grad_B_min_diff - Min: {L_grad_B_min_diff_min}, Max: {L_grad_B_min_diff_max}\")\n",
    "print(f\"beta_diff - Min: {beta_diff_min}, Max: {beta_diff_max}\")\n",
    "\n",
    "iota_diff_q1, iota_diff_median, iota_diff_q3 = np.percentile(iota_diff, [25, 50, 75])\n",
    "L_grad_B_min_diff_q1, L_grad_B_min_diff_median, L_grad_B_min_diff_q3 = np.percentile(L_grad_B_min_diff, [25, 50, 75])\n",
    "beta_diff_q1, beta_diff_median, beta_diff_q3 = np.percentile(beta_diff, [25, 50, 75])\n",
    "\n",
    "# Print quartile values\n",
    "print(f\"iota_diff - Q1: {iota_diff_q1}, Median: {iota_diff_median}, Q3: {iota_diff_q3}\")\n",
    "print(f\"L_grad_B_min_diff - Q1: {L_grad_B_min_diff_q1}, Median: {L_grad_B_min_diff_median}, Q3: {L_grad_B_min_diff_q3}\")\n",
    "print(f\"beta_diff - Q1: {beta_diff_q1}, Median: {beta_diff_median}, Q3: {beta_diff_q3}\")\n",
    "\n",
    "# Plot histograms for each diff\n",
    "plt.figure(figsize=(15, 5))\n",
    "\n",
    "# iota_diff distribution\n",
    "plt.subplot(1, 3, 1)\n",
    "plt.hist(iota_diff, bins=50, color='blue', edgecolor='black', alpha=0.7)\n",
    "plt.title('Distribution of iota_diff')\n",
    "plt.xlabel('iota_diff')\n",
    "plt.ylabel('Frequency')\n",
    "\n",
    "# L_grad_B_min_diff distribution\n",
    "plt.subplot(1, 3, 2)\n",
    "plt.hist(L_grad_B_min_diff, bins=50, color='green', edgecolor='black', alpha=0.7)\n",
    "plt.title('Distribution of L_grad_B_min_diff')\n",
    "plt.xlabel('L_grad_B_min_diff')\n",
    "plt.ylabel('Frequency')\n",
    "\n",
    "# beta_diff distribution\n",
    "plt.subplot(1, 3, 3)\n",
    "plt.hist(beta_diff, bins=50, color='orange', edgecolor='black', alpha=0.7)\n",
    "plt.title('Distribution of beta_diff')\n",
    "plt.xlabel('beta_diff')\n",
    "plt.ylabel('Frequency')\n",
    "\n",
    "plt.tight_layout()\n",
    "plt.show()"
   ]
  },
  {
   "cell_type": "code",
   "execution_count": 4,
   "metadata": {},
   "outputs": [
    {
     "data": {
      "text/plain": [
       "(71061, 21)"
      ]
     },
     "execution_count": 4,
     "metadata": {},
     "output_type": "execute_result"
    }
   ],
   "source": [
    "import pandas as pd\n",
    "import numpy as np\n",
    "\n",
    "# Load the dataset\n",
    "data = pd.read_csv(\"updated_data.csv\")\n",
    "\n",
    "# Extract the absolute values for the diffs\n",
    "iota_diff = data['iota_diff'].abs()\n",
    "L_grad_B_min_diff = data['L_grad_B_min_diff'].abs()\n",
    "beta_diff = data['beta_diff'].abs()\n",
    "\n",
    "# Calculate max values and quartiles\n",
    "iota_diff_max = iota_diff.max()\n",
    "L_grad_B_min_diff_max = L_grad_B_min_diff.max()\n",
    "beta_diff_max = beta_diff.max()\n",
    "\n",
    "iota_diff_q3 = np.percentile(iota_diff, 75)\n",
    "L_grad_B_min_diff_q3 = np.percentile(L_grad_B_min_diff, 75)\n",
    "beta_diff_q3 = np.percentile(beta_diff, 75)\n",
    "\n",
    "# Define thresholds for filtering: Q3 + 1.5 * IQR\n",
    "iota_diff_threshold = iota_diff_q3 + 1.5 * (iota_diff_q3 - np.percentile(iota_diff, 25))\n",
    "beta_diff_threshold = beta_diff_q3 + 1.5 * (beta_diff_q3 - np.percentile(beta_diff, 25))\n",
    "\n",
    "# Filter out rows with extreme values\n",
    "filtered_data = data[(iota_diff <= 1500) & (beta_diff <= beta_diff_threshold)]\n",
    "\n",
    "# Save the filtered dataset\n",
    "filtered_data.to_csv(\"updated_data2.csv\", index=False)\n",
    "\n",
    "# Output key information for verification\n",
    "filtered_data.shape\n"
   ]
  },
  {
   "cell_type": "code",
   "execution_count": null,
   "metadata": {},
   "outputs": [
    {
     "data": {
      "image/png": "[encoded data removed]",
      "text/plain": [
       "<Figure size 720x432 with 1 Axes>"
      ]
     },
     "metadata": {
      "needs_background": "light"
     },
     "output_type": "display_data"
    }
   ],
   "source": [
    "#check the distribution of the score\n",
    "\n",
    "# Load the data with scores\n",
    "data = pd.read_csv(\"updated_data.csv\")\n",
    "\n",
    "# Plot the distribution of scores\n",
    "plt.figure(figsize=(10, 6))\n",
    "plt.hist(data['score'], bins=50, edgecolor='black')\n",
    "plt.xlabel(\"Score\")\n",
    "plt.ylabel(\"Frequency\")\n",
    "plt.title(\"Distribution of Scores\")\n",
    "plt.show()"
   ]
  },
  {
   "cell_type": "code",
   "execution_count": 4,
   "metadata": {},
   "outputs": [],
   "source": [
    "data = pd.read_csv(\"updated_data.csv\")\n",
    "\n",
    "# Extract X (first 10 columns) and y (score column)\n",
    "X = data.iloc[:, :10].values  # First 10 columns as input features\n",
    "y = data['score'].values      # Score column as target\n",
    "\n",
    "scaler = StandardScaler()\n",
    "X = scaler.fit_transform(X)\n",
    "\n",
    "# Convert data to PyTorch tensors and reshape\n",
    "X_tensor = torch.tensor(X, dtype=torch.float32).unsqueeze(1).unsqueeze(3)  # Shape: [batch_size, 1, 10, 1]\n",
    "y_tensor = torch.tensor(y, dtype=torch.float32).unsqueeze(1)  # Shape: [batch_size, 1]\n",
    "\n",
    "# Split data into train, validation, and test sets (80% train, 10% val, 10% test)\n",
    "X_train, X_temp, y_train, y_temp = train_test_split(X_tensor, y_tensor, test_size=0.2, random_state=42)\n",
    "X_val, X_test, y_val, y_test = train_test_split(X_temp, y_temp, test_size=0.5, random_state=42)\n",
    "\n",
    "# Create DataLoaders directly from tensors\n",
    "batch_size = 32\n",
    "train_dataset = TensorDataset(X_train, y_train)\n",
    "val_dataset = TensorDataset(X_val, y_val)\n",
    "test_dataset = TensorDataset(X_test, y_test)\n",
    "\n",
    "train_loader = DataLoader(train_dataset, batch_size=batch_size, shuffle=True)\n",
    "val_loader = DataLoader(val_dataset, batch_size=batch_size)\n",
    "test_loader = DataLoader(test_dataset, batch_size=batch_size)"
   ]
  },
  {
   "cell_type": "code",
   "execution_count": 35,
   "metadata": {},
   "outputs": [],
   "source": [
    "# Define the ResNet model for regression (without pretrained weights)\n",
    "class ResNetRegressor(nn.Module):\n",
    "    def __init__(self):\n",
    "        super(ResNetRegressor, self).__init__()\n",
    "        self.resnet = resnet18(weights=None)  # Not using pretrained weights\n",
    "        self.resnet.conv1 = nn.Conv2d(1, 64, kernel_size=7, stride=2, padding=3, bias=False)\n",
    "        self.resnet.fc = nn.Linear(self.resnet.fc.in_features, 1)  # Single output for regression\n",
    "\n",
    "    def forward(self, x):\n",
    "        return self.resnet(x)"
   ]
  },
  {
   "cell_type": "code",
   "execution_count": 5,
   "metadata": {},
   "outputs": [],
   "source": [
    "class SimpleRegressor(nn.Module):\n",
    "    def __init__(self):\n",
    "        super(SimpleRegressor, self).__init__()\n",
    "        # Define the layers\n",
    "        self.fc1 = nn.Linear(10, 64)\n",
    "        self.fc2 = nn.Linear(64, 64)\n",
    "        self.fc3 = nn.Linear(64, 32)\n",
    "        self.fc4 = nn.Linear(32, 32)\n",
    "        self.fc5 = nn.Linear(32, 16)\n",
    "        self.fc6 = nn.Linear(16, 16)\n",
    "        self.fc7 = nn.Linear(16, 1)  # Output layer for regression\n",
    "\n",
    "    def forward(self, x):\n",
    "        # Flatten input if necessary\n",
    "        x = x.view(x.size(0), -1)\n",
    "        \n",
    "        # Forward pass through the layers with ReLU activation\n",
    "        x = torch.relu(self.fc1(x))\n",
    "        x = torch.relu(self.fc2(x))\n",
    "        x = torch.relu(self.fc3(x))\n",
    "        x = torch.relu(self.fc4(x))\n",
    "        x = torch.relu(self.fc5(x))\n",
    "        x = torch.relu(self.fc6(x))\n",
    "        x = self.fc7(x)  # No activation on output layer for regression\n",
    "        \n",
    "        return x\n"
   ]
  },
  {
   "cell_type": "code",
   "execution_count": 6,
   "metadata": {},
   "outputs": [],
   "source": [
    "# Initialize model, loss function, and optimizer\n",
    "model = SimpleRegressor()\n",
    "criterion = nn.MSELoss()\n",
    "optimizer = optim.Adam(model.parameters(), lr=0.001)\n",
    "\n",
    "# Early stopping settings\n",
    "patience = 5\n",
    "best_val_loss = np.inf\n",
    "epochs_no_improve = 0\n",
    "best_model_path = \"best_resnet_regressor.pth\""
   ]
  },
  {
   "cell_type": "code",
   "execution_count": 37,
   "metadata": {},
   "outputs": [
    {
     "ename": "KeyboardInterrupt",
     "evalue": "",
     "output_type": "error",
     "traceback": [
      "\u001b[0;31m---------------------------------------------------------------------------\u001b[0m",
      "\u001b[0;31mKeyboardInterrupt\u001b[0m                         Traceback (most recent call last)",
      "Input \u001b[0;32mIn [37]\u001b[0m, in \u001b[0;36m<cell line: 6>\u001b[0;34m()\u001b[0m\n\u001b[1;32m     11\u001b[0m predictions \u001b[38;5;241m=\u001b[39m model(X_batch)\n\u001b[1;32m     12\u001b[0m loss \u001b[38;5;241m=\u001b[39m criterion(predictions, y_batch)\n\u001b[0;32m---> 13\u001b[0m \u001b[43mloss\u001b[49m\u001b[38;5;241;43m.\u001b[39;49m\u001b[43mbackward\u001b[49m\u001b[43m(\u001b[49m\u001b[43m)\u001b[49m\n\u001b[1;32m     14\u001b[0m optimizer\u001b[38;5;241m.\u001b[39mstep()\n\u001b[1;32m     15\u001b[0m running_train_loss \u001b[38;5;241m+\u001b[39m\u001b[38;5;241m=\u001b[39m loss\u001b[38;5;241m.\u001b[39mitem()\n",
      "File \u001b[0;32m/opt/anaconda3/lib/python3.9/site-packages/torch/_tensor.py:522\u001b[0m, in \u001b[0;36mTensor.backward\u001b[0;34m(self, gradient, retain_graph, create_graph, inputs)\u001b[0m\n\u001b[1;32m    512\u001b[0m \u001b[38;5;28;01mif\u001b[39;00m has_torch_function_unary(\u001b[38;5;28mself\u001b[39m):\n\u001b[1;32m    513\u001b[0m     \u001b[38;5;28;01mreturn\u001b[39;00m handle_torch_function(\n\u001b[1;32m    514\u001b[0m         Tensor\u001b[38;5;241m.\u001b[39mbackward,\n\u001b[1;32m    515\u001b[0m         (\u001b[38;5;28mself\u001b[39m,),\n\u001b[0;32m   (...)\u001b[0m\n\u001b[1;32m    520\u001b[0m         inputs\u001b[38;5;241m=\u001b[39minputs,\n\u001b[1;32m    521\u001b[0m     )\n\u001b[0;32m--> 522\u001b[0m \u001b[43mtorch\u001b[49m\u001b[38;5;241;43m.\u001b[39;49m\u001b[43mautograd\u001b[49m\u001b[38;5;241;43m.\u001b[39;49m\u001b[43mbackward\u001b[49m\u001b[43m(\u001b[49m\n\u001b[1;32m    523\u001b[0m \u001b[43m    \u001b[49m\u001b[38;5;28;43mself\u001b[39;49m\u001b[43m,\u001b[49m\u001b[43m \u001b[49m\u001b[43mgradient\u001b[49m\u001b[43m,\u001b[49m\u001b[43m \u001b[49m\u001b[43mretain_graph\u001b[49m\u001b[43m,\u001b[49m\u001b[43m \u001b[49m\u001b[43mcreate_graph\u001b[49m\u001b[43m,\u001b[49m\u001b[43m \u001b[49m\u001b[43minputs\u001b[49m\u001b[38;5;241;43m=\u001b[39;49m\u001b[43minputs\u001b[49m\n\u001b[1;32m    524\u001b[0m \u001b[43m\u001b[49m\u001b[43m)\u001b[49m\n",
      "File \u001b[0;32m/opt/anaconda3/lib/python3.9/site-packages/torch/autograd/__init__.py:266\u001b[0m, in \u001b[0;36mbackward\u001b[0;34m(tensors, grad_tensors, retain_graph, create_graph, grad_variables, inputs)\u001b[0m\n\u001b[1;32m    261\u001b[0m     retain_graph \u001b[38;5;241m=\u001b[39m create_graph\n\u001b[1;32m    263\u001b[0m \u001b[38;5;66;03m# The reason we repeat the same comment below is that\u001b[39;00m\n\u001b[1;32m    264\u001b[0m \u001b[38;5;66;03m# some Python versions print out the first line of a multi-line function\u001b[39;00m\n\u001b[1;32m    265\u001b[0m \u001b[38;5;66;03m# calls in the traceback and some print out the last line\u001b[39;00m\n\u001b[0;32m--> 266\u001b[0m \u001b[43mVariable\u001b[49m\u001b[38;5;241;43m.\u001b[39;49m\u001b[43m_execution_engine\u001b[49m\u001b[38;5;241;43m.\u001b[39;49m\u001b[43mrun_backward\u001b[49m\u001b[43m(\u001b[49m\u001b[43m  \u001b[49m\u001b[38;5;66;43;03m# Calls into the C++ engine to run the backward pass\u001b[39;49;00m\n\u001b[1;32m    267\u001b[0m \u001b[43m    \u001b[49m\u001b[43mtensors\u001b[49m\u001b[43m,\u001b[49m\n\u001b[1;32m    268\u001b[0m \u001b[43m    \u001b[49m\u001b[43mgrad_tensors_\u001b[49m\u001b[43m,\u001b[49m\n\u001b[1;32m    269\u001b[0m \u001b[43m    \u001b[49m\u001b[43mretain_graph\u001b[49m\u001b[43m,\u001b[49m\n\u001b[1;32m    270\u001b[0m \u001b[43m    \u001b[49m\u001b[43mcreate_graph\u001b[49m\u001b[43m,\u001b[49m\n\u001b[1;32m    271\u001b[0m \u001b[43m    \u001b[49m\u001b[43minputs\u001b[49m\u001b[43m,\u001b[49m\n\u001b[1;32m    272\u001b[0m \u001b[43m    \u001b[49m\u001b[43mallow_unreachable\u001b[49m\u001b[38;5;241;43m=\u001b[39;49m\u001b[38;5;28;43;01mTrue\u001b[39;49;00m\u001b[43m,\u001b[49m\n\u001b[1;32m    273\u001b[0m \u001b[43m    \u001b[49m\u001b[43maccumulate_grad\u001b[49m\u001b[38;5;241;43m=\u001b[39;49m\u001b[38;5;28;43;01mTrue\u001b[39;49;00m\u001b[43m,\u001b[49m\n\u001b[1;32m    274\u001b[0m \u001b[43m\u001b[49m\u001b[43m)\u001b[49m\n",
      "\u001b[0;31mKeyboardInterrupt\u001b[0m: "
     ]
    }
   ],
   "source": [
    "# Training settings\n",
    "num_epochs = 50\n",
    "train_losses = []\n",
    "val_losses = []\n",
    "\n",
    "for epoch in range(num_epochs):\n",
    "    model.train()\n",
    "    running_train_loss = 0.0\n",
    "    for X_batch, y_batch in train_loader:\n",
    "        optimizer.zero_grad()\n",
    "        predictions = model(X_batch)\n",
    "        loss = criterion(predictions, y_batch)\n",
    "        loss.backward()\n",
    "        optimizer.step()\n",
    "        running_train_loss += loss.item()\n",
    "\n",
    "    # Calculate average training loss\n",
    "    avg_train_loss = running_train_loss / len(train_loader)\n",
    "    train_losses.append(avg_train_loss)\n",
    "\n",
    "    # Validation step\n",
    "    model.eval()\n",
    "    running_val_loss = 0.0\n",
    "    with torch.no_grad():\n",
    "        for X_batch, y_batch in val_loader:\n",
    "            predictions = model(X_batch)\n",
    "            val_loss = criterion(predictions, y_batch)\n",
    "            running_val_loss += val_loss.item()\n",
    "    \n",
    "    # Calculate average validation loss\n",
    "    avg_val_loss = running_val_loss / len(val_loader)\n",
    "    val_losses.append(avg_val_loss)\n",
    "\n",
    "    # Print losses\n",
    "    print(f\"Epoch [{epoch+1}/{num_epochs}], Train Loss: {avg_train_loss:.4f}, Val Loss: {avg_val_loss:.4f}\")\n",
    "\n",
    "    # Early stopping\n",
    "    if avg_val_loss < best_val_loss:\n",
    "        best_val_loss = avg_val_loss\n",
    "        epochs_no_improve = 0\n",
    "        torch.save(model.state_dict(), best_model_path)  # Save best model\n",
    "    else:\n",
    "        epochs_no_improve += 1\n",
    "        if epochs_no_improve >= patience:\n",
    "            print(\"Early stopping triggered\")\n",
    "            break\n"
   ]
  },
  {
   "cell_type": "code",
   "execution_count": null,
   "metadata": {},
   "outputs": [],
   "source": [
    "# Plot training and validation loss\n",
    "plt.figure(figsize=(10, 5))\n",
    "plt.plot(train_losses, label='Training Loss')\n",
    "plt.plot(val_losses, label='Validation Loss')\n",
    "plt.xlabel('Epoch')\n",
    "plt.ylabel('Loss')\n",
    "plt.legend()\n",
    "plt.title('Training and Validation Loss')\n",
    "plt.show()\n",
    "\n",
    "# Load the best model for evaluation on the test set\n",
    "model.load_state_dict(torch.load(best_model_path))"
   ]
  },
  {
   "cell_type": "code",
   "execution_count": null,
   "metadata": {},
   "outputs": [],
   "source": [
    "# Evaluate on the test set\n",
    "model.load_state_dict(torch.load(\"best_model.pth\"))\n",
    "model.eval()\n",
    "test_loss = 0.0\n",
    "with torch.no_grad():\n",
    "    for X_batch, y_batch in test_loader:\n",
    "        predictions = model(X_batch)\n",
    "        loss = criterion(predictions, y_batch)\n",
    "        test_loss += loss.item()\n",
    "\n",
    "avg_test_loss = test_loss / len(test_loader)\n",
    "print(f\"Test Loss: {avg_test_loss:.4f}\")\n"
   ]
  },
  {
   "cell_type": "code",
   "execution_count": 10,
   "metadata": {},
   "outputs": [
    {
     "ename": "ValueError",
     "evalue": "f(a) and f(b) must have different signs",
     "output_type": "error",
     "traceback": [
      "\u001b[0;31m---------------------------------------------------------------------------\u001b[0m",
      "\u001b[0;31mValueError\u001b[0m                                Traceback (most recent call last)",
      "Input \u001b[0;32mIn [10]\u001b[0m, in \u001b[0;36m<cell line: 3>\u001b[0;34m()\u001b[0m\n\u001b[1;32m      1\u001b[0m stel \u001b[38;5;241m=\u001b[39m Qsc(rc\u001b[38;5;241m=\u001b[39m[\u001b[38;5;241m1.0\u001b[39m] \u001b[38;5;241m+\u001b[39m [\u001b[38;5;241m-\u001b[39m\u001b[38;5;241m0.054477256\u001b[39m, \u001b[38;5;241m0.031455696\u001b[39m, \u001b[38;5;241m0.072832815\u001b[39m], zs\u001b[38;5;241m=\u001b[39m[\u001b[38;5;241m0.0\u001b[39m] \u001b[38;5;241m+\u001b[39m [\u001b[38;5;241m0.20934333\u001b[39m, \u001b[38;5;241m0.10262363\u001b[39m, \u001b[38;5;241m0.072832815\u001b[39m], nfp\u001b[38;5;241m=\u001b[39m\u001b[38;5;241m2\u001b[39m, etabar\u001b[38;5;241m=\u001b[39m\u001b[38;5;241m0.0601015\u001b[39m, B2c\u001b[38;5;241m=\u001b[39m\u001b[38;5;241m-\u001b[39m\u001b[38;5;241m0.988636\u001b[39m, p2\u001b[38;5;241m=\u001b[39m\u001b[38;5;241m-\u001b[39m\u001b[38;5;241m2162991.5\u001b[39m, order\u001b[38;5;241m=\u001b[39m\u001b[38;5;124m\"\u001b[39m\u001b[38;5;124mr2\u001b[39m\u001b[38;5;124m\"\u001b[39m)\n\u001b[0;32m----> 3\u001b[0m \u001b[43mstel\u001b[49m\u001b[38;5;241;43m.\u001b[39;49m\u001b[43mplot_boundary\u001b[49m\u001b[43m(\u001b[49m\u001b[43mr\u001b[49m\u001b[38;5;241;43m=\u001b[39;49m\u001b[38;5;241;43m0.01\u001b[39;49m\u001b[43m)\u001b[49m\n",
      "File \u001b[0;32m/opt/anaconda3/lib/python3.9/site-packages/qsc/plot.py:343\u001b[0m, in \u001b[0;36mplot_boundary\u001b[0;34m(self, r, ntheta, nphi, ntheta_fourier, nsections, fieldlines, savefig, colormap, azim_default, show, **kwargs)\u001b[0m\n\u001b[1;32m    293\u001b[0m \u001b[38;5;28;01mdef\u001b[39;00m \u001b[38;5;21mplot_boundary\u001b[39m(\u001b[38;5;28mself\u001b[39m, r\u001b[38;5;241m=\u001b[39m\u001b[38;5;241m0.1\u001b[39m, ntheta\u001b[38;5;241m=\u001b[39m\u001b[38;5;241m80\u001b[39m, nphi\u001b[38;5;241m=\u001b[39m\u001b[38;5;241m150\u001b[39m, ntheta_fourier\u001b[38;5;241m=\u001b[39m\u001b[38;5;241m20\u001b[39m, nsections\u001b[38;5;241m=\u001b[39m\u001b[38;5;241m8\u001b[39m,\n\u001b[1;32m    294\u001b[0m          fieldlines\u001b[38;5;241m=\u001b[39m\u001b[38;5;28;01mFalse\u001b[39;00m, savefig\u001b[38;5;241m=\u001b[39m\u001b[38;5;28;01mNone\u001b[39;00m, colormap\u001b[38;5;241m=\u001b[39m\u001b[38;5;28;01mNone\u001b[39;00m, azim_default\u001b[38;5;241m=\u001b[39m\u001b[38;5;28;01mNone\u001b[39;00m,\n\u001b[1;32m    295\u001b[0m          show\u001b[38;5;241m=\u001b[39m\u001b[38;5;28;01mTrue\u001b[39;00m, \u001b[38;5;241m*\u001b[39m\u001b[38;5;241m*\u001b[39mkwargs):\n\u001b[1;32m    296\u001b[0m \u001b[38;5;250m    \u001b[39m\u001b[38;5;124;03m\"\"\"\u001b[39;00m\n\u001b[1;32m    297\u001b[0m \u001b[38;5;124;03m    Plot the boundary of the near-axis configuration. There are two main ways of\u001b[39;00m\n\u001b[1;32m    298\u001b[0m \u001b[38;5;124;03m    running this function.\u001b[39;00m\n\u001b[0;32m   (...)\u001b[0m\n\u001b[1;32m    341\u001b[0m \u001b[38;5;124;03m       :width: 200\u001b[39;00m\n\u001b[1;32m    342\u001b[0m \u001b[38;5;124;03m    \"\"\"\u001b[39;00m\n\u001b[0;32m--> 343\u001b[0m     x_2D_plot, y_2D_plot, z_2D_plot, R_2D_plot \u001b[38;5;241m=\u001b[39m \u001b[38;5;28;43mself\u001b[39;49m\u001b[38;5;241;43m.\u001b[39;49m\u001b[43mget_boundary\u001b[49m\u001b[43m(\u001b[49m\u001b[43mr\u001b[49m\u001b[38;5;241;43m=\u001b[39;49m\u001b[43mr\u001b[49m\u001b[43m,\u001b[49m\u001b[43m \u001b[49m\u001b[43mntheta\u001b[49m\u001b[38;5;241;43m=\u001b[39;49m\u001b[43mntheta\u001b[49m\u001b[43m,\u001b[49m\u001b[43m \u001b[49m\u001b[43mnphi\u001b[49m\u001b[38;5;241;43m=\u001b[39;49m\u001b[43mnphi\u001b[49m\u001b[43m,\u001b[49m\u001b[43m \u001b[49m\u001b[43mntheta_fourier\u001b[49m\u001b[38;5;241;43m=\u001b[39;49m\u001b[43mntheta_fourier\u001b[49m\u001b[43m)\u001b[49m\n\u001b[1;32m    344\u001b[0m     phi \u001b[38;5;241m=\u001b[39m np\u001b[38;5;241m.\u001b[39mlinspace(\u001b[38;5;241m0\u001b[39m, \u001b[38;5;241m2\u001b[39m \u001b[38;5;241m*\u001b[39m np\u001b[38;5;241m.\u001b[39mpi, nphi)  \u001b[38;5;66;03m# Endpoint = true and no nfp factor, because this is what is used in get_boundary()\u001b[39;00m\n\u001b[1;32m    345\u001b[0m     R_2D_spline \u001b[38;5;241m=\u001b[39m interp1d(phi, R_2D_plot, axis\u001b[38;5;241m=\u001b[39m\u001b[38;5;241m1\u001b[39m)\n",
      "File \u001b[0;32m/opt/anaconda3/lib/python3.9/site-packages/qsc/plot.py:268\u001b[0m, in \u001b[0;36mget_boundary\u001b[0;34m(self, r, ntheta, nphi, ntheta_fourier, mpol, ntor)\u001b[0m\n\u001b[1;32m    253\u001b[0m \u001b[38;5;250m\u001b[39m\u001b[38;5;124;03m'''\u001b[39;00m\n\u001b[1;32m    254\u001b[0m \u001b[38;5;124;03mFunction that, for a given near-axis radial coordinate r, outputs\u001b[39;00m\n\u001b[1;32m    255\u001b[0m \u001b[38;5;124;03mthe [X,Y,Z,R] components of the boundary. The resolution along the toroidal\u001b[39;00m\n\u001b[0;32m   (...)\u001b[0m\n\u001b[1;32m    265\u001b[0m \u001b[38;5;124;03m  ntor: resolution in toroidal Fourier space\u001b[39;00m\n\u001b[1;32m    266\u001b[0m \u001b[38;5;124;03m'''\u001b[39;00m\n\u001b[1;32m    267\u001b[0m \u001b[38;5;66;03m# Get surface shape at fixed off-axis toroidal angle phi\u001b[39;00m\n\u001b[0;32m--> 268\u001b[0m R_2D, Z_2D, _ \u001b[38;5;241m=\u001b[39m \u001b[38;5;28;43mself\u001b[39;49m\u001b[38;5;241;43m.\u001b[39;49m\u001b[43mFrenet_to_cylindrical\u001b[49m\u001b[43m(\u001b[49m\u001b[43mr\u001b[49m\u001b[43m,\u001b[49m\u001b[43m \u001b[49m\u001b[43mntheta\u001b[49m\u001b[38;5;241;43m=\u001b[39;49m\u001b[43mntheta_fourier\u001b[49m\u001b[43m)\u001b[49m\n\u001b[1;32m    269\u001b[0m \u001b[38;5;66;03m# Get Fourier coefficients in order to plot with arbitrary resolution\u001b[39;00m\n\u001b[1;32m    270\u001b[0m RBC, RBS, ZBC, ZBS \u001b[38;5;241m=\u001b[39m to_Fourier(R_2D, Z_2D, \u001b[38;5;28mself\u001b[39m\u001b[38;5;241m.\u001b[39mnfp, mpol\u001b[38;5;241m=\u001b[39mmpol, ntor\u001b[38;5;241m=\u001b[39mntor, lasym\u001b[38;5;241m=\u001b[39m\u001b[38;5;28mself\u001b[39m\u001b[38;5;241m.\u001b[39mlasym)\n",
      "File \u001b[0;32m/opt/anaconda3/lib/python3.9/site-packages/qsc/Frenet_to_cylindrical.py:166\u001b[0m, in \u001b[0;36mFrenet_to_cylindrical\u001b[0;34m(self, r, ntheta)\u001b[0m\n\u001b[1;32m    164\u001b[0m phi0_rootSolve_min \u001b[38;5;241m=\u001b[39m phi_target \u001b[38;5;241m-\u001b[39m \u001b[38;5;241m1.0\u001b[39m \u001b[38;5;241m/\u001b[39m \u001b[38;5;28mself\u001b[39m\u001b[38;5;241m.\u001b[39mnfp\n\u001b[1;32m    165\u001b[0m phi0_rootSolve_max \u001b[38;5;241m=\u001b[39m phi_target \u001b[38;5;241m+\u001b[39m \u001b[38;5;241m1.0\u001b[39m \u001b[38;5;241m/\u001b[39m \u001b[38;5;28mself\u001b[39m\u001b[38;5;241m.\u001b[39mnfp\n\u001b[0;32m--> 166\u001b[0m res \u001b[38;5;241m=\u001b[39m \u001b[43mroot_scalar\u001b[49m\u001b[43m(\u001b[49m\u001b[43mFrenet_to_cylindrical_residual_func\u001b[49m\u001b[43m,\u001b[49m\u001b[43m \u001b[49m\u001b[43mxtol\u001b[49m\u001b[38;5;241;43m=\u001b[39;49m\u001b[38;5;241;43m1e-15\u001b[39;49m\u001b[43m,\u001b[49m\u001b[43m \u001b[49m\u001b[43mrtol\u001b[49m\u001b[38;5;241;43m=\u001b[39;49m\u001b[38;5;241;43m1e-15\u001b[39;49m\u001b[43m,\u001b[49m\u001b[43m \u001b[49m\u001b[43mmaxiter\u001b[49m\u001b[38;5;241;43m=\u001b[39;49m\u001b[38;5;241;43m1000\u001b[39;49m\u001b[43m,\u001b[49m\u001b[43m\\\u001b[49m\n\u001b[1;32m    167\u001b[0m \u001b[43m                  \u001b[49m\u001b[43margs\u001b[49m\u001b[38;5;241;43m=\u001b[39;49m\u001b[43m(\u001b[49m\u001b[43mphi_target\u001b[49m\u001b[43m,\u001b[49m\u001b[43m \u001b[49m\u001b[38;5;28;43mself\u001b[39;49m\u001b[43m)\u001b[49m\u001b[43m,\u001b[49m\u001b[43m \u001b[49m\u001b[43mbracket\u001b[49m\u001b[38;5;241;43m=\u001b[39;49m\u001b[43m[\u001b[49m\u001b[43mphi0_rootSolve_min\u001b[49m\u001b[43m,\u001b[49m\u001b[43m \u001b[49m\u001b[43mphi0_rootSolve_max\u001b[49m\u001b[43m]\u001b[49m\u001b[43m,\u001b[49m\u001b[43m \u001b[49m\u001b[43mx0\u001b[49m\u001b[38;5;241;43m=\u001b[39;49m\u001b[43mphi_target\u001b[49m\u001b[43m)\u001b[49m\n\u001b[1;32m    168\u001b[0m phi0_solution \u001b[38;5;241m=\u001b[39m res\u001b[38;5;241m.\u001b[39mroot\n\u001b[1;32m    169\u001b[0m final_R, final_z, _ \u001b[38;5;241m=\u001b[39m Frenet_to_cylindrical_1_point(phi0_solution, \u001b[38;5;28mself\u001b[39m)\n",
      "File \u001b[0;32m/opt/anaconda3/lib/python3.9/site-packages/scipy/optimize/_root_scalar.py:279\u001b[0m, in \u001b[0;36mroot_scalar\u001b[0;34m(f, args, method, bracket, fprime, fprime2, x0, x1, xtol, rtol, maxiter, options)\u001b[0m\n\u001b[1;32m    277\u001b[0m a, b \u001b[38;5;241m=\u001b[39m bracket[:\u001b[38;5;241m2\u001b[39m]\n\u001b[1;32m    278\u001b[0m \u001b[38;5;28;01mtry\u001b[39;00m:\n\u001b[0;32m--> 279\u001b[0m     r, sol \u001b[38;5;241m=\u001b[39m \u001b[43mmethodc\u001b[49m\u001b[43m(\u001b[49m\u001b[43mf\u001b[49m\u001b[43m,\u001b[49m\u001b[43m \u001b[49m\u001b[43ma\u001b[49m\u001b[43m,\u001b[49m\u001b[43m \u001b[49m\u001b[43mb\u001b[49m\u001b[43m,\u001b[49m\u001b[43m \u001b[49m\u001b[43margs\u001b[49m\u001b[38;5;241;43m=\u001b[39;49m\u001b[43margs\u001b[49m\u001b[43m,\u001b[49m\u001b[43m \u001b[49m\u001b[38;5;241;43m*\u001b[39;49m\u001b[38;5;241;43m*\u001b[39;49m\u001b[43mkwargs\u001b[49m\u001b[43m)\u001b[49m\n\u001b[1;32m    280\u001b[0m \u001b[38;5;28;01mexcept\u001b[39;00m \u001b[38;5;167;01mValueError\u001b[39;00m \u001b[38;5;28;01mas\u001b[39;00m e:\n\u001b[1;32m    281\u001b[0m     \u001b[38;5;66;03m# gh-17622 fixed some bugs in low-level solvers by raising an error\u001b[39;00m\n\u001b[1;32m    282\u001b[0m     \u001b[38;5;66;03m# (rather than returning incorrect results) when the callable\u001b[39;00m\n\u001b[1;32m    283\u001b[0m     \u001b[38;5;66;03m# returns a NaN. It did so by wrapping the callable rather than\u001b[39;00m\n\u001b[1;32m    284\u001b[0m     \u001b[38;5;66;03m# modifying compiled code, so the iteration count is not available.\u001b[39;00m\n\u001b[1;32m    285\u001b[0m     \u001b[38;5;28;01mif\u001b[39;00m \u001b[38;5;28mhasattr\u001b[39m(e, \u001b[38;5;124m\"\u001b[39m\u001b[38;5;124m_x\u001b[39m\u001b[38;5;124m\"\u001b[39m):\n",
      "File \u001b[0;32m/opt/anaconda3/lib/python3.9/site-packages/scipy/optimize/_zeros_py.py:806\u001b[0m, in \u001b[0;36mbrentq\u001b[0;34m(f, a, b, args, xtol, rtol, maxiter, full_output, disp)\u001b[0m\n\u001b[1;32m    804\u001b[0m     \u001b[38;5;28;01mraise\u001b[39;00m \u001b[38;5;167;01mValueError\u001b[39;00m(\u001b[38;5;124mf\u001b[39m\u001b[38;5;124m\"\u001b[39m\u001b[38;5;124mrtol too small (\u001b[39m\u001b[38;5;132;01m{\u001b[39;00mrtol\u001b[38;5;132;01m:\u001b[39;00m\u001b[38;5;124mg\u001b[39m\u001b[38;5;132;01m}\u001b[39;00m\u001b[38;5;124m < \u001b[39m\u001b[38;5;132;01m{\u001b[39;00m_rtol\u001b[38;5;132;01m:\u001b[39;00m\u001b[38;5;124mg\u001b[39m\u001b[38;5;132;01m}\u001b[39;00m\u001b[38;5;124m)\u001b[39m\u001b[38;5;124m\"\u001b[39m)\n\u001b[1;32m    805\u001b[0m f \u001b[38;5;241m=\u001b[39m _wrap_nan_raise(f)\n\u001b[0;32m--> 806\u001b[0m r \u001b[38;5;241m=\u001b[39m \u001b[43m_zeros\u001b[49m\u001b[38;5;241;43m.\u001b[39;49m\u001b[43m_brentq\u001b[49m\u001b[43m(\u001b[49m\u001b[43mf\u001b[49m\u001b[43m,\u001b[49m\u001b[43m \u001b[49m\u001b[43ma\u001b[49m\u001b[43m,\u001b[49m\u001b[43m \u001b[49m\u001b[43mb\u001b[49m\u001b[43m,\u001b[49m\u001b[43m \u001b[49m\u001b[43mxtol\u001b[49m\u001b[43m,\u001b[49m\u001b[43m \u001b[49m\u001b[43mrtol\u001b[49m\u001b[43m,\u001b[49m\u001b[43m \u001b[49m\u001b[43mmaxiter\u001b[49m\u001b[43m,\u001b[49m\u001b[43m \u001b[49m\u001b[43margs\u001b[49m\u001b[43m,\u001b[49m\u001b[43m \u001b[49m\u001b[43mfull_output\u001b[49m\u001b[43m,\u001b[49m\u001b[43m \u001b[49m\u001b[43mdisp\u001b[49m\u001b[43m)\u001b[49m\n\u001b[1;32m    807\u001b[0m \u001b[38;5;28;01mreturn\u001b[39;00m results_c(full_output, r, \u001b[38;5;124m\"\u001b[39m\u001b[38;5;124mbrentq\u001b[39m\u001b[38;5;124m\"\u001b[39m)\n",
      "\u001b[0;31mValueError\u001b[0m: f(a) and f(b) must have different signs"
     ]
    }
   ],
   "source": [
    "stel = Qsc(rc=[1.0] + [-0.054477256, 0.031455696, 0.072832815], zs=[0.0] + [0.20934333, 0.10262363, 0.072832815], nfp=2, etabar=0.0601015, B2c=-0.988636, p2=-2162991.5, order=\"r2\")\n",
    "\n",
    "stel.plot_boundary(r=0.01)"
   ]
  }
 ],
 "metadata": {
  "kernelspec": {
   "display_name": "base",
   "language": "python",
   "name": "python3"
  },
  "language_info": {
   "codemirror_mode": {
    "name": "ipython",
    "version": 3
   },
   "file_extension": ".py",
   "mimetype": "text/x-python",
   "name": "python",
   "nbconvert_exporter": "python",
   "pygments_lexer": "ipython3",
   "version": "3.9.12"
  }
 },
 "nbformat": 4,
 "nbformat_minor": 2
}
